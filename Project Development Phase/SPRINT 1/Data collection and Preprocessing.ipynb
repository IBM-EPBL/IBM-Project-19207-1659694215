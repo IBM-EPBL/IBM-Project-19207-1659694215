Importing The Necessary Libraries
import numpy as np
import pandas as pd
import matplotlib.pyplot as plt
import seaborn as sns
Reading The Dataset
df=pd.read_csv(r'C:\Users\hp\Downloads\Water_Quality_data.csv',encoding='ISO-8859-1',low_memory=False)
df
STATION CODE	LOCATIONS	STATE	Temp	D.O. (mg/l)	PH	CONDUCTIVITY (µmhos/cm)	B.O.D. (mg/l)	NITRATENAN N+ NITRITENANN (mg/l)	FECAL COLIFORM (MPN/100ml)	TOTAL COLIFORM (MPN/100ml)Mean	year
0	1393	DAMANGANGA AT D/S OF MADHUBAN, DAMAN	DAMAN & DIU	30.6	6.7	7.5	203	NAN	0.1	11	27	2014
1	1399	ZUARI AT D/S OF PT. WHERE KUMBARJRIA CANAL JOI...	GOA	29.8	5.7	7.2	189	2	0.2	4953	8391	2014
2	1475	ZUARI AT PANCHAWADI	GOA	29.5	6.3	6.9	179	1.7	0.1	3243	5330	2014
3	3181	RIVER ZUARI AT BORIM BRIDGE	GOA	29.7	5.8	6.9	64	3.8	0.5	5382	8443	2014
4	3182	RIVER ZUARI AT MARCAIM JETTY	GOA	29.5	5.8	7.3	83	1.9	0.4	3428	5500	2014
5	1400	MANDOVI AT NEGHBOURHOOD OF PANAJI, GOA	GOA	30	5.5	7.4	81	1.5	0.1	2853	4049	2014
6	1476	MANDOVI AT TONCA, MARCELA, GOA	GOA	29.2	6.1	6.7	308	1.4	0.3	3355	5672	2014
7	3185	RIVER MANDOVI AT AMONA BRIDGE	GOA	29.6	6.4	6.7	414	1	0.2	6073	9423	2014
8	3186	RIVER MANDOVI AT IFFI JETTY	GOA	30	6.4	7.6	305	2.2	0.1	3478	4990	2014
9	3187	RIVER MANDOVI NEAR HOTEL MARRIOT	GOA	30.1	6.3	7.6	77	2.3	0.1	2606	4301	2014
10	1543	RIVER KALNA AT CHANDELNAN PERNEM, GOA	GOA	27.8	7.1	7.1	176	1.2	0.1	4573	7817	2014
11	1548	RIVER ASSONORA AT ASSONORA, GOA	GOA	27.9	6.7	6.4	93	1.4	0.1	2147	3433	2014
12	2276	RIVER BICHOLIM VARAZAN NAGAR , BICHOLIM	GOA	29.3	7.4	6.8	121	1.7	0.4	11633	18125	2014
13	2275	RIVER CHAPORA NEAR ALORNA FORT ,PERNEM	GOA	29.2	6.9	7	620	1.1	0.1	3500	6300	2014
14	3189	RIVER CHAPORA AT SIOLIM	GOA	30	6	7.5	72	1.6	0.2	4995	9517	2014
15	1546	RIVER KHANDEPAR AT OPA NAN PONDA, GOA	GOA	29	7.3	7	247	1.5	0.2	1095	2453	2014
16	2270	RIVER KHANDEPAR AT CODLI NEAR BRIDGE ,U/S OPA ...	GOA	29.1	7.3	7	188	1	0.1	1286	3048	2014
17	2272	RIVER KUSHAWATI NEAR BUND AT KEVONA,RIVON,SANGUEM	GOA	28.7	7	6.9	224	1.2	0.3	3896	6742	2014
18	1545	RIVER MADAI AT DABOS NAN VALPOI, GOA	GOA	28.7	7.3	6.7	144	1.5	0.1	1940	3052	2014
19	2274	RIVER MAPUSA ON CULVERT ON HIGHWAY MAPUSANANPA...	GOA	29.5	5.3	6.8	319	1.8	0.3	6458	10250	2014
20	2271	RIVER SAL PAZORKHONI,CUNCOLIM(NEAR CULVERT MAR...	GOA	29	6.3	6.4	79	1.6	1.4	7592	12842	2014
21	2273	RIVER SAL NEAR HOTEL LEELA MOBOR,CAVELOSSIM	GOA	29.4	5.4	7.6	39	1.4	0.1	3176	6367	2014
22	3183	RIVER SAL AT KHAREBAND, MARGAO	GOA	28.3	2.2	6.5	322	4.7	1.2	11210	14920	2014
23	3184	RIVER SAL AT ORLIM BRIDGE, ORLIM	GOA	30.1	5.2	7.1	192	2.6	0.3	5073	8925	2014
24	3190	RIVER SINQUERIM (CANDOLIM SIDE NEAR BRIDGE)	GOA	30.3	5.6	7.5	282	1.8	0.1	3205	5082	2014
25	3191	RIVER SINQUERIM NEAR NERUL TEMPLE	GOA	30.5	5.5	7.4	275	1.5	0.1	4698	8625	2014
26	1547	RIVER TALPONA AT CANACONA, GOA	GOA	29.1	7.3	6.7	55	1.4	0.1	2638	4003	2014
27	3188	RIVER TIRACOL AT TIRACOL	GOA	30.1	6.5	7.5	415	2	0.1	864	1538	2014
28	1544	RIVER VALVANT AT SANKLI NAN BICHOLIM, GOA	GOA	29.2	7.2	6.3	100	1.5	0.1	7942	13575	2014
29	2651	AMBA RIVER AT D/S OF WAKEN BRIDGENANU/S OF JS ...	MAHARASHTRA	25.1	6.6	7.8	95	4.9	0.2	16	36	2014
...	...	...	...	...	...	...	...	...	...	...	...	...
1961	1424	IMPHAL AT MAHABALI, MANIPUR	NAN	21	7.3	111	7.1	2.4	NAN	NAN	80	2003
1962	1457	IMPHAL AT KOIRENGEI, MANIPUR	NAN	21	7.4	74	7.5	1.2	NAN	NAN	64	2003
1963	1627	KIYAMGI, MANIPUR	NAN	21	7.5	77	7.4	3.2	NAN	NAN	65	2003
1964	1628	MINUTHONG(IMPHAL RIVER, MANIPUR	NAN	21	7.3	97	7.3	1.9	NAN	NAN	78	2003
1965	1458	IRIL AT PORAMPET, MANIPUR	NAN	21	7.4	121	7.5	2.7	NAN	NAN	69	2003
1966	1624	LILONG, MANIPUR	NAN	21	7.4	142	6.7	1.3	NAN	NAN	73	2003
1967	1625	HUMP BRIDGE, MANIPUR	NAN	23	7.3	112	8.1	17.2	NAN	NAN	225	2003
1968	1626	HEIRANGOITHONG, MANIPUR	NAN	21	7.5	124	3.7	18.5	NAN	NAN	247	2003
1969	1427	UMTREW AT BYRNIHAT EAST, MEGHALAYA	NAN	20	6.9	223	6.3	6.8	NAN	NAN	295	2003
1970	1428	KHARKHLA NEAR SUTNGA KHLIERIAT,JAINTIA HILLS D...	NAN	17	3.1	493	5.8	5.9	NAN	NAN	33	2003
1971	1631	MYNTDU RIVER JOWAI, MEGHALAYA	NAN	15	6.9	142	7.3	2.2	NAN	NAN	1573	2003
1972	1632	GANOL RIVER TURA, MEGHALAYA	NAN	20	6.9	145	7.8	1.8	NAN	NAN	245	2003
1973	1633	SIMSANG RIVER WILLIAMNAGAR, MEGHALAYA	NAN	21	7	145	7.3	2.3	NAN	NAN	363	2003
1974	1455	RUSHIKULYA AT GANJAM U/S, ORISSA	NAN	30	8.1	569	8.2	1.6	1.028	1.028	6050	2003
1975	1456	RUSHIKULYA AT GANJAM D/S, ORISSA	NAN	27	7.7	28598	7.7	1.7	0.962	0.962	3200	2003
1976	1642	NAGAVALLI AT JAYKAYPUR D/S, ORISSA	NAN	30	7.4	219	6.8	3	0.964	0.964	11300	2003
1977	1643	NAGAVALLI AT RAYAGADA D/S, ORISSA	NAN	29	7.2	198	7.2	2.1	1.03	1.03	4950	2003
1978	1685	ARASALAR RIVER KARAIKAL REGION, PONDICHERRY	NAN	29	8	978	5.4	9	1.24	1.24	NAN	2003
1979	1717	KODRA DAM, MOUNT ABU, RAJASTHAN	NAN	21	7.6	203	6.3	1.9	0.107	0.107	109	2003
1980	1159	TAMBIRAPARANI AT BDG.NR. MADURA COATS LTD.PAPA...	NAN	29	7.2	150	7.5	1.3	0.142	0.142	327	2003
1981	1160	TAMBIRAPARANI AT CHERANMADEVI,CAUSE WAY,TAMILNADU	NAN	31	7.3	178	6.7	1.5	0.138	0.138	190	2003
1982	1161	TAMBIRAPARANI AT TIRUNELVELI,COLLECTORATE, ...	NAN	29	7.1	214	6.8	2.3	0.585	0.585	350	2003
1983	1162	TAMBIRAPARANI AT MURAPPANADU, TAMILNADU	NAN	NAN	7.5	293	7.2	1.2	0.568	0.568	35	2003
1984	1328	TAMBIRAPARANI AT PAPPANKULAM,TAMILNADU	NAN	28	6.9	146	7.1	2	0.506	0.506	38	2003
1985	1329	TAMBIRAPARANI AT RAIL BDG. NR. AMBASAMUDAM, TA...	NAN	28	7	136	7.5	1.4	0.609	0.609	205	2003
1986	1330	TAMBIRAPARANI AT ARUMUGANERI, TAMILNADU	NAN	NAN	7.9	738	7.2	2.7	0.518	0.518	202	2003
1987	1450	PALAR AT VANIYAMBADI WATER SUPPLY HEAD WORK, T...	NAN	29	7.5	585	6.3	2.6	0.155	0.155	315	2003
1988	1403	GUMTI AT U/S SOUTH TRIPURA,TRIPURA	NAN	28	7.6	98	6.2	1.2	NAN	NAN	570	2003
1989	1404	GUMTI AT D/S SOUTH TRIPURA, TRIPURA	NAN	28	7.7	91	6.5	1.3	NAN	NAN	562	2003
1990	1726	CHANDRAPUR, AGARTALA D/S OF HAORA RIVER, TRIPURA	NAN	29	7.6	110	5.7	1.1	NAN	NAN	546	2003
1991 rows × 12 columns

head() command is used to display the top n records of the specified dataset.
df.head()
STATION CODE	LOCATIONS	STATE	Temp	D.O. (mg/l)	PH	CONDUCTIVITY (µmhos/cm)	B.O.D. (mg/l)	NITRATENAN N+ NITRITENANN (mg/l)	FECAL COLIFORM (MPN/100ml)	TOTAL COLIFORM (MPN/100ml)Mean	year
0	1393	DAMANGANGA AT D/S OF MADHUBAN, DAMAN	DAMAN & DIU	30.6	6.7	7.5	203	NAN	0.1	11	27	2014
1	1399	ZUARI AT D/S OF PT. WHERE KUMBARJRIA CANAL JOI...	GOA	29.8	5.7	7.2	189	2	0.2	4953	8391	2014
2	1475	ZUARI AT PANCHAWADI	GOA	29.5	6.3	6.9	179	1.7	0.1	3243	5330	2014
3	3181	RIVER ZUARI AT BORIM BRIDGE	GOA	29.7	5.8	6.9	64	3.8	0.5	5382	8443	2014
4	3182	RIVER ZUARI AT MARCAIM JETTY	GOA	29.5	5.8	7.3	83	1.9	0.4	3428	5500	2014
Analysis Of The Data
info() method is used to get the columns in the dataset along with its properties
df.info()
RangeIndex: 1991 entries, 0 to 1990
Data columns (total 12 columns):
STATION CODE                        1991 non-null object
LOCATIONS                           1991 non-null object
STATE                               1991 non-null object
Temp                                1991 non-null object
D.O. (mg/l)                         1991 non-null object
PH                                  1991 non-null object
CONDUCTIVITY (µmhos/cm)             1991 non-null object
B.O.D. (mg/l)                       1991 non-null object
NITRATENAN N+ NITRITENANN (mg/l)    1991 non-null object
FECAL COLIFORM (MPN/100ml)          1991 non-null object
TOTAL COLIFORM (MPN/100ml)Mean      1991 non-null object
year                                1991 non-null int64
dtypes: int64(1), object(11)
memory usage: 101.1+ KB
Descriptive Statistics Of The Dataset
df.describe()
year
count	1991.000000
mean	2010.038172
std	3.057333
min	2003.000000
25%	2008.000000
50%	2011.000000
75%	2013.000000
max	2014.000000
The Above Description shows only the Descriptive Statistics of the year column beacuse it is the only column which has the datatype 'int64'
df.shape
(1991, 12)
The Dataset contains 1991 Rows and 12 Columns.
Exploratory Data Analysis
Handling the Missing Values
df.isnull().any()
STATION CODE                        False
LOCATIONS                           False
STATE                               False
Temp                                False
D.O. (mg/l)                         False
PH                                  False
CONDUCTIVITY (µmhos/cm)             False
B.O.D. (mg/l)                       False
NITRATENAN N+ NITRITENANN (mg/l)    False
FECAL COLIFORM (MPN/100ml)          False
TOTAL COLIFORM (MPN/100ml)Mean      False
year                                False
dtype: bool
df.isnull().sum()
STATION CODE                        0
LOCATIONS                           0
STATE                               0
Temp                                0
D.O. (mg/l)                         0
PH                                  0
CONDUCTIVITY (µmhos/cm)             0
B.O.D. (mg/l)                       0
NITRATENAN N+ NITRITENANN (mg/l)    0
FECAL COLIFORM (MPN/100ml)          0
TOTAL COLIFORM (MPN/100ml)Mean      0
year                                0
dtype: int64
Initially there is no Null Values present in the Dataset.
Checking The Data Types Of The Columns
df.dtypes
STATION CODE                        object
LOCATIONS                           object
STATE                               object
Temp                                object
D.O. (mg/l)                         object
PH                                  object
CONDUCTIVITY (µmhos/cm)             object
B.O.D. (mg/l)                       object
NITRATENAN N+ NITRITENANN (mg/l)    object
FECAL COLIFORM (MPN/100ml)          object
TOTAL COLIFORM (MPN/100ml)Mean      object
year                                 int64
dtype: object
Here many numeric columns also has the data type of object.
Let's convert the columns into float datatype.

df['Temp']=pd.to_numeric(df['Temp'],errors='coerce')
df['D.O. (mg/l)']=pd.to_numeric(df['D.O. (mg/l)'],errors='coerce')
df['PH']=pd.to_numeric(df['PH'],errors='coerce')
df['B.O.D. (mg/l)']=pd.to_numeric(df['B.O.D. (mg/l)'],errors='coerce')
df['CONDUCTIVITY (µmhos/cm)']=pd.to_numeric(df['CONDUCTIVITY (µmhos/cm)'],errors='coerce')
df['NITRATENAN N+ NITRITENANN (mg/l)']=pd.to_numeric(df['NITRATENAN N+ NITRITENANN (mg/l)'],errors='coerce')
df['TOTAL COLIFORM (MPN/100ml)Mean']=pd.to_numeric(df['TOTAL COLIFORM (MPN/100ml)Mean'],errors='coerce')
df.dtypes
STATION CODE                         object
LOCATIONS                            object
STATE                                object
Temp                                float64
D.O. (mg/l)                         float64
PH                                  float64
CONDUCTIVITY (µmhos/cm)             float64
B.O.D. (mg/l)                       float64
NITRATENAN N+ NITRITENANN (mg/l)    float64
FECAL COLIFORM (MPN/100ml)           object
TOTAL COLIFORM (MPN/100ml)Mean      float64
year                                  int64
dtype: object
Let's Check For The Missing Values Again.
df.isnull().any()
STATION CODE                        False
LOCATIONS                           False
STATE                               False
Temp                                 True
D.O. (mg/l)                          True
PH                                   True
CONDUCTIVITY (µmhos/cm)              True
B.O.D. (mg/l)                        True
NITRATENAN N+ NITRITENANN (mg/l)     True
FECAL COLIFORM (MPN/100ml)          False
TOTAL COLIFORM (MPN/100ml)Mean       True
year                                False
dtype: bool
df.isnull().sum()
STATION CODE                          0
LOCATIONS                             0
STATE                                 0
Temp                                 92
D.O. (mg/l)                          31
PH                                    8
CONDUCTIVITY (µmhos/cm)              25
B.O.D. (mg/l)                        43
NITRATENAN N+ NITRITENANN (mg/l)    225
FECAL COLIFORM (MPN/100ml)            0
TOTAL COLIFORM (MPN/100ml)Mean      132
year                                  0
dtype: int64
Now some columns which have been converted to float datatype has some missing values.So, we have to replace the Null values using the mean or mode
df['Temp'].fillna(df['Temp'].mean(),inplace=True)
df['D.O. (mg/l)'].fillna(df['D.O. (mg/l)'].mean(),inplace=True)
df['PH'].fillna(df['PH'].mean(),inplace=True)
df['CONDUCTIVITY (µmhos/cm)'].fillna(df['CONDUCTIVITY (µmhos/cm)'].mean(),inplace=True)
df['B.O.D. (mg/l)'].fillna(df['B.O.D. (mg/l)'].mean(),inplace=True)
df['NITRATENAN N+ NITRITENANN (mg/l)'].fillna(df['NITRATENAN N+ NITRITENANN (mg/l)'].mean(),inplace=True)
df['TOTAL COLIFORM (MPN/100ml)Mean'].fillna(df['TOTAL COLIFORM (MPN/100ml)Mean'].mean(),inplace=True)
df.isnull().any()
STATION CODE                        False
LOCATIONS                           False
STATE                               False
Temp                                False
D.O. (mg/l)                         False
PH                                  False
CONDUCTIVITY (µmhos/cm)             False
B.O.D. (mg/l)                       False
NITRATENAN N+ NITRITENANN (mg/l)    False
FECAL COLIFORM (MPN/100ml)          False
TOTAL COLIFORM (MPN/100ml)Mean      False
year                                False
dtype: bool
df.isnull().sum()
STATION CODE                        0
LOCATIONS                           0
STATE                               0
Temp                                0
D.O. (mg/l)                         0
PH                                  0
CONDUCTIVITY (µmhos/cm)             0
B.O.D. (mg/l)                       0
NITRATENAN N+ NITRITENANN (mg/l)    0
FECAL COLIFORM (MPN/100ml)          0
TOTAL COLIFORM (MPN/100ml)Mean      0
year                                0
dtype: int64
Now, There is no missing values present in any columns of the dataset.So, we have handled the Missing Values present in the dataset.
df.head()
STATION CODE	LOCATIONS	STATE	Temp	D.O. (mg/l)	PH	CONDUCTIVITY (µmhos/cm)	B.O.D. (mg/l)	NITRATENAN N+ NITRITENANN (mg/l)	FECAL COLIFORM (MPN/100ml)	TOTAL COLIFORM (MPN/100ml)Mean	year
0	1393	DAMANGANGA AT D/S OF MADHUBAN, DAMAN	DAMAN & DIU	30.6	6.7	7.5	203.0	6.940049	0.1	11	27.0	2014
1	1399	ZUARI AT D/S OF PT. WHERE KUMBARJRIA CANAL JOI...	GOA	29.8	5.7	7.2	189.0	2.000000	0.2	4953	8391.0	2014
2	1475	ZUARI AT PANCHAWADI	GOA	29.5	6.3	6.9	179.0	1.700000	0.1	3243	5330.0	2014
3	3181	RIVER ZUARI AT BORIM BRIDGE	GOA	29.7	5.8	6.9	64.0	3.800000	0.5	5382	8443.0	2014
4	3182	RIVER ZUARI AT MARCAIM JETTY	GOA	29.5	5.8	7.3	83.0	1.900000	0.4	3428	5500.0	2014
df.drop(["FECAL COLIFORM (MPN/100ml)"],axis=1,inplace=True)
df.head()
STATION CODE	LOCATIONS	STATE	Temp	D.O. (mg/l)	PH	CONDUCTIVITY (µmhos/cm)	B.O.D. (mg/l)	NITRATENAN N+ NITRITENANN (mg/l)	TOTAL COLIFORM (MPN/100ml)Mean	year
0	1393	DAMANGANGA AT D/S OF MADHUBAN, DAMAN	DAMAN & DIU	30.6	6.7	7.5	203.0	6.940049	0.1	27.0	2014
1	1399	ZUARI AT D/S OF PT. WHERE KUMBARJRIA CANAL JOI...	GOA	29.8	5.7	7.2	189.0	2.000000	0.2	8391.0	2014
2	1475	ZUARI AT PANCHAWADI	GOA	29.5	6.3	6.9	179.0	1.700000	0.1	5330.0	2014
3	3181	RIVER ZUARI AT BORIM BRIDGE	GOA	29.7	5.8	6.9	64.0	3.800000	0.5	8443.0	2014
4	3182	RIVER ZUARI AT MARCAIM JETTY	GOA	29.5	5.8	7.3	83.0	1.900000	0.4	5500.0	2014
Renaming The Column Names in the Dataset For simplicity
df=df.rename(columns = {'D.O. (mg/l)':'do'})
df=df.rename(columns = {'CONDUCTIVITY (µmhos/cm)':'co'})
df=df.rename(columns = {'B.O.D. (mg/l)':'bod'})
df=df.rename(columns = {'NITRATENAN N+ NITRITENANN (mg/l)':'na'})
df=df.rename(columns =  {'TOTAL COLIFORM (MPN/100ml)Mean':'tc'})
df=df.rename(columns =  {'STATION CODE':'station'})
df=df.rename(columns =  {'LOCATIONS':'location'})
df=df.rename(columns =  {'STATE':'state'})
df=df.rename(columns =  {'PH':'ph'})
df.head()
station	location	state	Temp	do	ph	co	bod	na	tc	year
0	1393	DAMANGANGA AT D/S OF MADHUBAN, DAMAN	DAMAN & DIU	30.6	6.7	7.5	203.0	6.940049	0.1	27.0	2014
1	1399	ZUARI AT D/S OF PT. WHERE KUMBARJRIA CANAL JOI...	GOA	29.8	5.7	7.2	189.0	2.000000	0.2	8391.0	2014
2	1475	ZUARI AT PANCHAWADI	GOA	29.5	6.3	6.9	179.0	1.700000	0.1	5330.0	2014
3	3181	RIVER ZUARI AT BORIM BRIDGE	GOA	29.7	5.8	6.9	64.0	3.800000	0.5	8443.0	2014
4	3182	RIVER ZUARI AT MARCAIM JETTY	GOA	29.5	5.8	7.3	83.0	1.900000	0.4	5500.0	2014
So, The Dataset has been read , analysed and preprocessing has been done successfully