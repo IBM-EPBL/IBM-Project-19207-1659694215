{
  "cells": [
    {
      "cell_type": "code",
      "execution_count": null,
      "metadata": {
        "id": "SM7BzSGFpgKK"
      },
      "outputs": [],
      "source": [
        "<html>\n",
        "<head>\n",
        "<title>Water Quality Importance and Parameters</title>\n",
        "<style>\n",
        "body\n",
        "{\n",
        "background-image:url('https://images.pexels.com/photos/355808/pexels-photo-355808.jpeg?cs=srgb&dl=pexels-pixabay-355808.jpg&fm=jpg');\n",
        "}\n",
        "</style>\n",
        "</head>\n",
        "<body>\n",
        "<h1><font color=\"red\" size=\"10\" font-family=\"Comic Sans MS\" >Importance Of Water Quality</font></h1>\n",
        "<p>\n",
        "<font color=\"white\" size=\"10\" font-family=\"Comic Sans MS\" >Water is the most essential and vital resource which is available in abundant amount in nature.</font><br/>\n",
        "<font color=\"white\" size=\"10\" font-family=\"Comic Sans MS\" >Water affects the various aspects of human health and lives.</font><br/>\n",
        "<font color=\"white\" size=\"10\" font-family=\"Comic Sans MS\" >Nowadays due to various causes of water pollution, the quality of water has been degraded.</font><br/>\n",
        "<font color=\"white\" size=\"10\" font-family=\"Comic Sans MS\" >So, it is necessary to determine the water quality so as to determine and detect the contaminants present in the water sample before it causing Adverse Health Effects.</font>\n",
        "</p>\n",
        "<h1><font color=\"red\" size=\"10\" font-family=\"Comic Sans MS\" >Parameters Involved</font></h1>\n",
        "<ol>\n",
        "<li><a href=\"/ph\" target=\"_self\"><font color=\"white\" size=\"7\" font-family=\"Comic Sans MS\" >pH Importance</font></a></li>\n",
        "\n",
        "<li><a href=\"/do\" target=\"_self\"><font color=\"white\" size=\"7\" font-family=\"Comic Sans MS\" >Dissolved Oxygen Importance</font></a></li>  \n",
        "\n",
        "<li><a href=\"/bod\" target=\"_self\"><font color=\"white\" size=\"7\" font-family=\"Comic Sans MS\" >BOD Importance</font></a></li>  \n",
        "\n",
        "<li><a href=\"/cond\" target=\"_self\"><font color=\"white\" size=\"7\" font-family=\"Comic Sans MS\" >Conductivity Importance</font></a></li>  \n",
        "\n",
        "<li><a href=\"/nit\" target=\"_self\"><font color=\"white\" size=\"7\" font-family=\"Comic Sans MS\" >Nitrate Importance</font></a></li>  \n",
        "\n",
        "<li><a href=\"/col\" target=\"_self\"><font color=\"white\" size=\"7\" font-family=\"Comic Sans MS\" >Coliform Importance</font></a></li>     \n",
        "</ol>\n",
        "<a href=\"/analysis\" target=\"_self\"><font color=\"white\" size=\"10\" font-family=\"Comic Sans MS\" >Water Quality Index Value Analysis</font></a></li>\n",
        "\n",
        "</body>\n",
        "</html>"
      ]
    },
    {
      "cell_type": "code",
      "execution_count": null,
      "metadata": {
        "id": "uJC4P6oVpnL4"
      },
      "outputs": [],
      "source": []
    }
  ],
  "metadata": {
    "colab": {
      "provenance": []
    },
    "kernelspec": {
      "display_name": "Python 3",
      "name": "python3"
    },
    "language_info": {
      "name": "python"
    }
  },
  "nbformat": 4,
  "nbformat_minor": 0
}
